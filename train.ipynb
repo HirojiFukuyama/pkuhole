{
 "cells": [
  {
   "cell_type": "code",
   "execution_count": 1,
   "metadata": {},
   "outputs": [],
   "source": [
    "# necessary imports\n",
    "import torch\n",
    "from torch import nn\n",
    "from torch.utils.data import DataLoader\n",
    "from torch import optim\n",
    "from tqdm import tqdm\n",
    "from dataload import MyDataset\n",
    "# import all the models\n",
    "from lgg_model import *"
   ]
  },
  {
   "cell_type": "code",
   "execution_count": 2,
   "metadata": {},
   "outputs": [],
   "source": [
    "option = input(\"请选择是否储存单词模型（y/n）：\")\n",
    "if option == 'y' or option == 'Y':\n",
    "    save_model = True\n",
    "else:\n",
    "    save_model = False"
   ]
  },
  {
   "cell_type": "code",
   "execution_count": 3,
   "metadata": {},
   "outputs": [],
   "source": [
    "# generate dataset and dataloader\n",
    "BS = 32\n",
    "input_word_count = 10\n",
    "device = torch.device(\"cuda:0\" if torch.cuda.is_available() else \"cpu\")\n",
    "\n",
    "data_path = input(\"请输入数据集名称（无需添加后缀）：\")\n",
    "data_path = \"texts/\" + data_path + \".txt\"\n",
    "full_dataset = MyDataset(data_path, input_word_count, save_word_model=save_model) # set the save option to True for the first time\n",
    "vocabulary_length = full_dataset.vocabulary_length\n",
    "\n",
    "train_in_all = 0.8 # train_in_all is the proportion of the dataset that will be used for training\n",
    "\n",
    "train_size = int(train_in_all * len(full_dataset))\n",
    "val_size = len(full_dataset) - train_size\n",
    "\n",
    "train_dataset, val_dataset = torch.utils.data.random_split(full_dataset, [train_size, val_size])\n",
    "train_dataloader = DataLoader(train_dataset, batch_size=BS, shuffle=True)\n",
    "val_dataloader = DataLoader(val_dataset, batch_size=BS, shuffle=True)"
   ]
  },
  {
   "cell_type": "code",
   "execution_count": 4,
   "metadata": {},
   "outputs": [
    {
     "data": {
      "text/plain": [
       "1944"
      ]
     },
     "execution_count": 4,
     "metadata": {},
     "output_type": "execute_result"
    }
   ],
   "source": [
    "vocabulary_length"
   ]
  },
  {
   "cell_type": "code",
   "execution_count": 5,
   "metadata": {},
   "outputs": [
    {
     "name": "stdout",
     "output_type": "stream",
     "text": [
      "2022-04-01_10_12_06\n"
     ]
    },
    {
     "data": {
      "text/plain": [
       "('hole/2022-04-01_10_12_06/train', 'hole/2022-04-01_10_12_06/val')"
      ]
     },
     "execution_count": 5,
     "metadata": {},
     "output_type": "execute_result"
    }
   ],
   "source": [
    "from datetime import datetime as dt\n",
    "\n",
    "now = str(dt.now())\n",
    "time_path = now[:10] + \"_\" + now[11:13] + \"_\" + now[14:16] + \"_\" + now[17:19]\n",
    "print(time_path)\n",
    "tb_path = \"hole/\" + time_path\n",
    "tb_train_path = tb_path + \"/train\"\n",
    "tb_val_path = tb_path + \"/val\"\n",
    "tb_train_path, tb_val_path"
   ]
  },
  {
   "cell_type": "code",
   "execution_count": 6,
   "metadata": {},
   "outputs": [],
   "source": [
    "from torch.utils.tensorboard import SummaryWriter \n",
    "writer_train = SummaryWriter(tb_train_path)\n",
    "writer_val = SummaryWriter(tb_val_path)"
   ]
  },
  {
   "cell_type": "code",
   "execution_count": 7,
   "metadata": {},
   "outputs": [],
   "source": [
    "# some components in the training process\n",
    "LR = 0.001 # the learning rate of 0.001 is still too large, maybe needs lr_decay or batch_norm\n",
    "num_epoches = 20\n",
    "net = vanilla_GRU(vocabulary_length, 50, 100, 2).to(device)\n",
    "optimizer = optim.Adam(net.parameters(), lr=LR) \n",
    "criterion = nn.CrossEntropyLoss()\n",
    "\n",
    "# 2022/2/27 add a lr decay controller\n",
    "lr_decay_rate = 0.99\n",
    "ctrl = torch.optim.lr_scheduler.ExponentialLR(optimizer, lr_decay_rate)"
   ]
  },
  {
   "cell_type": "code",
   "execution_count": 8,
   "metadata": {},
   "outputs": [
    {
     "name": "stdout",
     "output_type": "stream",
     "text": [
      "The hyperparameters are as follows:\n",
      "The dataset is: texts/hole02.txt\n",
      "The learning rate is: 0.001\n",
      "The number of epochs is: 20\n",
      "The batch size is: 32\n",
      "The input word count is: 10\n",
      "The vocabulary length is: 1944\n",
      "The ratio of train/val is: 4 : 1\n",
      "The network is: vanilla_GRU(\n",
      "  (Embedding): Embedding(1944, 50)\n",
      "  (GRU): GRU(50, 100, num_layers=2, batch_first=True, dropout=0.5)\n",
      "  (Linear): Linear(in_features=100, out_features=1944, bias=True)\n",
      ")\n",
      "The device is: cpu\n",
      "The optimizer is: Adam (\n",
      "Parameter Group 0\n",
      "    amsgrad: False\n",
      "    betas: (0.9, 0.999)\n",
      "    eps: 1e-08\n",
      "    initial_lr: 0.001\n",
      "    lr: 0.001\n",
      "    maximize: False\n",
      "    weight_decay: 0\n",
      ")\n",
      "The criterion is: CrossEntropyLoss()\n",
      "The lr decay schedule is: <torch.optim.lr_scheduler.ExponentialLR object at 0x7ff2f4439dc0> , and the lr decay rate is: 0.99\n"
     ]
    }
   ],
   "source": [
    "# print the hyperparameters\n",
    "print(\"The hyperparameters are as follows:\")\n",
    "print(\"The dataset is:\", data_path)\n",
    "print(\"The learning rate is:\", LR)\n",
    "print(\"The number of epochs is:\", num_epoches)\n",
    "print(\"The batch size is:\", BS)\n",
    "print(\"The input word count is:\", input_word_count)\n",
    "print(\"The vocabulary length is:\", vocabulary_length)\n",
    "print(\"The ratio of train/val is:\", int(train_in_all/(1-train_in_all)), \":\", 1)\n",
    "print(\"The network is:\", net)\n",
    "print(\"The device is:\", device)\n",
    "print(\"The optimizer is:\", optimizer)\n",
    "print(\"The criterion is:\", criterion)\n",
    "print(\"The lr decay schedule is:\", ctrl, \", and the lr decay rate is:\", lr_decay_rate)"
   ]
  },
  {
   "cell_type": "code",
   "execution_count": 9,
   "metadata": {},
   "outputs": [
    {
     "name": "stderr",
     "output_type": "stream",
     "text": [
      "100%|██████████| 20/20 [40:07<00:00, 120.36s/it]"
     ]
    },
    {
     "name": "stdout",
     "output_type": "stream",
     "text": [
      "Finish training!\n"
     ]
    },
    {
     "name": "stderr",
     "output_type": "stream",
     "text": [
      "\n"
     ]
    }
   ],
   "source": [
    "# start training!\n",
    "for epoch in tqdm(range(num_epoches)):\n",
    "    # train\n",
    "    net.train()\n",
    "    train_loss = 0\n",
    "    for i, data in enumerate(train_dataloader):\n",
    "        data = data.to(device)\n",
    "        data = data.to(torch.long)\n",
    "        label = data[:,1:]\n",
    "        out = net(data)[:,:-1,:]\n",
    "        out = torch.transpose(out, 2, 1)\n",
    "\n",
    "        optimizer.zero_grad()\n",
    "        loss = criterion(out, label)\n",
    "        train_loss += loss.item()\n",
    "        loss.backward()\n",
    "        optimizer.step()\n",
    "\n",
    "    train_avg_loss = train_loss / len(train_dataloader)\n",
    "    writer_train.add_scalar('Loss/Epoch', train_avg_loss, epoch+1) # epoch+1 because epoch starts from 0\n",
    "    writer_train.flush()\n",
    "    ctrl.step() # lr decay\n",
    "    \n",
    "    # validation\n",
    "    net.eval()\n",
    "    val_loss = 0\n",
    "    with torch.no_grad():\n",
    "        for i, data in enumerate(val_dataloader):\n",
    "            data = data.to(device)\n",
    "            data = data.to(torch.long)\n",
    "            label = data[:,1:]\n",
    "            out = net(data)[:,:-1,:]\n",
    "            out = torch.transpose(out, 2, 1)\n",
    "            loss = criterion(out, label)\n",
    "            val_loss += loss.item()\n",
    "    \n",
    "    val_avg_loss = val_loss / len(val_dataloader)\n",
    "    writer_val.add_scalar('Loss/Epoch', val_avg_loss, epoch+1) # epoch+1 because epoch starts from 0\n",
    "    writer_val.flush()\n",
    "    \n",
    "print(\"Finish training!\")"
   ]
  },
  {
   "cell_type": "code",
   "execution_count": 10,
   "metadata": {},
   "outputs": [],
   "source": [
    "# if you want to save your language model...\n",
    "model_name = input(\"请输入语言模型的名称：\")\n",
    "model_name = model_name + '_' + time_path\n",
    "torch.save(net, \"lgg_model_paths/\" + model_name)"
   ]
  },
  {
   "cell_type": "code",
   "execution_count": 11,
   "metadata": {},
   "outputs": [
    {
     "name": "stdout",
     "output_type": "stream",
     "text": [
      "Now the learning rate is: 0.0008179069375972306\n"
     ]
    }
   ],
   "source": [
    "print(\"Now the learning rate is:\", optimizer.param_groups[0]['lr'])"
   ]
  }
 ],
 "metadata": {
  "interpreter": {
   "hash": "aee8b7b246df8f9039afb4144a1f6fd8d2ca17a180786b69acc140d282b71a49"
  },
  "kernelspec": {
   "display_name": "Python 3.9.6 64-bit",
   "language": "python",
   "name": "python3"
  },
  "language_info": {
   "codemirror_mode": {
    "name": "ipython",
    "version": 3
   },
   "file_extension": ".py",
   "mimetype": "text/x-python",
   "name": "python",
   "nbconvert_exporter": "python",
   "pygments_lexer": "ipython3",
   "version": "3.9.6"
  },
  "orig_nbformat": 4
 },
 "nbformat": 4,
 "nbformat_minor": 2
}
