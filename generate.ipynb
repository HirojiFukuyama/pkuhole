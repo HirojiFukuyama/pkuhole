{
 "cells": [
  {
   "cell_type": "markdown",
   "metadata": {},
   "source": [
    "### generate.ipynb\n",
    "This notebook is for testing the effect of text generation."
   ]
  },
  {
   "cell_type": "code",
   "execution_count": null,
   "metadata": {},
   "outputs": [],
   "source": [
    "import torch\n",
    "from torch import nn\n",
    "import numpy as np\n",
    "from lgg_model import *\n",
    "from gensim.models import Word2Vec\n",
    "# from translate import *\n",
    "\n",
    "device=torch.device(\"cuda:0\" if torch.cuda.is_available() else \"cpu\")"
   ]
  },
  {
   "cell_type": "code",
   "execution_count": null,
   "metadata": {},
   "outputs": [],
   "source": [
    "lgg_model_path = input(\"请输入想使用的语言模型(无需添加后缀)：\")\n",
    "lgg_model_path = 'lgg_model_paths/' + lgg_model_path\n",
    "lgg_model = torch.load(lgg_model_path, map_location='cpu')\n",
    "lgg_model.eval()"
   ]
  },
  {
   "cell_type": "code",
   "execution_count": null,
   "metadata": {},
   "outputs": [],
   "source": [
    "word_model_path = input(\"请使用想使用的词汇库(无需添加后缀)：\")\n",
    "word_model_path = 'word_model_paths/' + word_model_path\n",
    "word_model = Word2Vec.load(word_model_path)\n",
    "wv = word_model.wv"
   ]
  },
  {
   "cell_type": "code",
   "execution_count": null,
   "metadata": {},
   "outputs": [],
   "source": [
    "from transformers import BertTokenizer, GPT2LMHeadModel\n",
    "tokenizer = BertTokenizer.from_pretrained(\"uer/gpt2-chinese-cluecorpussmall\")"
   ]
  },
  {
   "cell_type": "code",
   "execution_count": null,
   "metadata": {},
   "outputs": [],
   "source": [
    "lgg_model(torch.tensor([101, 10000, 22, 102]))['logits']"
   ]
  },
  {
   "cell_type": "code",
   "execution_count": null,
   "metadata": {},
   "outputs": [],
   "source": [
    "tokenizer.vocab_size"
   ]
  },
  {
   "cell_type": "code",
   "execution_count": null,
   "metadata": {},
   "outputs": [],
   "source": [
    "words = input(\"请输入初始文本：\")\n",
    "del_lst = []\n",
    "lst = list(words)\n",
    "\n",
    "for i in lst:\n",
    "    if i not in wv.key_to_index:\n",
    "        del_lst.append(i)\n",
    "for i in del_lst:\n",
    "    lst.remove(i)\n",
    "\n",
    "data = np.array([])\n",
    "for i in lst:\n",
    "    data = np.append(data, wv.key_to_index[i])\n",
    "\n",
    "count = int(input(\"请输入想要生成的字(词)数：\"))\n",
    "\n",
    "for i in lst:\n",
    "    print(i, end='')\n",
    "\n",
    "for i in range(count):\n",
    "    data = np.stack((data,))\n",
    "    x = torch.Tensor(data)\n",
    "    x = x.to(torch.long)\n",
    "    y = lgg_model(x)[0][-1]\n",
    "    p = y.detach().numpy()\n",
    "    p = softmax(p)\n",
    "\n",
    "    idx = np.random.choice(np.arange(len(wv)), p=p)\n",
    "    new_word = wv.index_to_key[idx]\n",
    "    print(new_word, end='')\n",
    "\n",
    "    lst.append(new_word)\n",
    "    data = np.append(data, idx)\n",
    "\n",
    "print('\\nGeneration finished.')"
   ]
  },
  {
   "cell_type": "code",
   "execution_count": null,
   "metadata": {},
   "outputs": [],
   "source": [
    "\"\"\"GPT-2 model generation\"\"\"\n",
    "\"\"\"没用！净给我报错！\"\"\"\n",
    "words = input(\"请输入初始文本：\")\n",
    "del_lst = []\n",
    "lst = list(words)\n",
    "\n",
    "data = []\n",
    "data.append(101)\n",
    "for i in lst:\n",
    "    data.append(tokenizer.encode(i)[1])\n",
    "data.append(102)\n",
    "data = torch.tensor(data)\n",
    "print(data)\n",
    "print(lgg_model(data)[0][-1])\n",
    "\n",
    "count = int(input(\"请输入想要生成的字(词)数：\"))\n",
    "\n",
    "for i in lst:\n",
    "    print(i, end='')\n",
    "\n",
    "for i in range(count):\n",
    "    y = lgg_model(data)[0][-1]\n",
    "    p = y.detach()\n",
    "    p = torch.softmax(p, dim=0)\n",
    "\n",
    "    idx = np.random.choice(tokenizer.vocab_size, p=np.array(p))\n",
    "    new_word = tokenizer.decode(idx)\n",
    "    print(new_word, end='')\n",
    "\n",
    "    lst.append(new_word)\n",
    "    data = torch.hstack((data, torch.tensor([idx])))\n",
    "\n",
    "print('\\nGeneration finished.')"
   ]
  },
  {
   "cell_type": "code",
   "execution_count": null,
   "metadata": {},
   "outputs": [],
   "source": [
    "# translate the generated text into classical Chinese\n",
    "# to_be_translated = str(lst)\n",
    "# translated = inference(to_be_translated)\n",
    "# for i in translated[0]:\n",
    "#     print(i, end='')"
   ]
  }
 ],
 "metadata": {
  "interpreter": {
   "hash": "aee8b7b246df8f9039afb4144a1f6fd8d2ca17a180786b69acc140d282b71a49"
  },
  "kernelspec": {
   "display_name": "Python 3.9.6 64-bit",
   "language": "python",
   "name": "python3"
  },
  "language_info": {
   "codemirror_mode": {
    "name": "ipython",
    "version": 3
   },
   "file_extension": ".py",
   "mimetype": "text/x-python",
   "name": "python",
   "nbconvert_exporter": "python",
   "pygments_lexer": "ipython3",
   "version": "3.9.6"
  },
  "orig_nbformat": 4
 },
 "nbformat": 4,
 "nbformat_minor": 2
}
