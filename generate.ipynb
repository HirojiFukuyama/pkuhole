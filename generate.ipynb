{
 "cells": [
  {
   "cell_type": "code",
   "execution_count": 1,
   "metadata": {},
   "outputs": [],
   "source": [
    "import torch\n",
    "from torch import nn\n",
    "import numpy as np\n",
    "from lgg_model import *\n",
    "from gensim.models import Word2Vec\n",
    "# from translate import *\n",
    "\n",
    "device=torch.device(\"cuda:0\" if torch.cuda.is_available() else \"cpu\")"
   ]
  },
  {
   "cell_type": "code",
   "execution_count": 2,
   "metadata": {},
   "outputs": [
    {
     "data": {
      "text/plain": [
       "LSTM_enhanced(\n",
       "  (Embedding): Embedding(3067, 256)\n",
       "  (LSTM): LSTM(256, 256, num_layers=3, batch_first=True, dropout=0.1)\n",
       "  (Linear): Linear(in_features=256, out_features=3067, bias=True)\n",
       ")"
      ]
     },
     "execution_count": 2,
     "metadata": {},
     "output_type": "execute_result"
    }
   ],
   "source": [
    "lgg_model_path = input(\"请输入想使用的语言模型(无需添加后缀)：\")\n",
    "lgg_model_path = 'lgg_model_paths/' + lgg_model_path\n",
    "lgg_model = torch.load(lgg_model_path, map_location='cpu')\n",
    "lgg_model.eval()"
   ]
  },
  {
   "cell_type": "code",
   "execution_count": 3,
   "metadata": {},
   "outputs": [],
   "source": [
    "word_model_path = input(\"请使用想使用的词汇库(无需添加后缀)：\")\n",
    "word_model_path = 'word_model_paths/' + word_model_path\n",
    "word_model = Word2Vec.load(word_model_path)\n",
    "wv = word_model.wv"
   ]
  },
  {
   "cell_type": "code",
   "execution_count": 4,
   "metadata": {},
   "outputs": [],
   "source": [
    "from transformers import BertTokenizer, GPT2LMHeadModel\n",
    "tokenizer = BertTokenizer.from_pretrained(\"uer/gpt2-chinese-cluecorpussmall\")"
   ]
  },
  {
   "cell_type": "code",
   "execution_count": 46,
   "metadata": {},
   "outputs": [
    {
     "data": {
      "text/plain": [
       "tensor([[ -9.9010,  -9.7920, -10.0020,  ...,  -9.7487,  -9.9116,  -9.7439],\n",
       "        [ -3.2599,  -2.0971,  -2.6715,  ...,  -2.8029,  -3.2739,  -2.6459],\n",
       "        [ -8.4065,  -7.5731,  -7.3951,  ...,  -8.3534,  -8.0513,  -8.2858],\n",
       "        [-12.6778, -13.7086, -11.7202,  ..., -12.8463, -13.3368, -12.7257]],\n",
       "       grad_fn=<MmBackward0>)"
      ]
     },
     "execution_count": 46,
     "metadata": {},
     "output_type": "execute_result"
    }
   ],
   "source": [
    "lgg_model(torch.tensor([101, 10000, 22, 102]))['logits']"
   ]
  },
  {
   "cell_type": "code",
   "execution_count": 26,
   "metadata": {},
   "outputs": [
    {
     "data": {
      "text/plain": [
       "21128"
      ]
     },
     "execution_count": 26,
     "metadata": {},
     "output_type": "execute_result"
    }
   ],
   "source": [
    "tokenizer.vocab_size"
   ]
  },
  {
   "cell_type": "code",
   "execution_count": 4,
   "metadata": {},
   "outputs": [
    {
     "name": "stdout",
     "output_type": "stream",
     "text": [
      "hhhhhh穿着轮滑鞋看不出来大家会小点点的作子了，然后绩点寄了\n",
      "[Hans] dz这边缺乏交流\n",
      "[Bob] Re 洞主: 完了，越说越像我的消息?\n",
      "[Carol] Re 洞主: 速速🤺\n",
      "[洞主] Re Bob: 考试\n",
      "[Hans] Re Francis: 163 17  jy，纯属so ritent&个洞里那里，这学期有犹豫过西音和浪欧，但是我觉得大家可以像特别和谐的男生的😣，就是说了自己和对方说同性吧\n",
      "Generation finished.\n"
     ]
    }
   ],
   "source": [
    "words = input(\"请输入初始文本：\")\n",
    "del_lst = []\n",
    "lst = list(words)\n",
    "\n",
    "for i in lst:\n",
    "    if i not in wv.key_to_index:\n",
    "        del_lst.append(i)\n",
    "for i in del_lst:\n",
    "    lst.remove(i)\n",
    "\n",
    "data = np.array([])\n",
    "for i in lst:\n",
    "    data = np.append(data, wv.key_to_index[i])\n",
    "\n",
    "count = int(input(\"请输入想要生成的字(词)数：\"))\n",
    "\n",
    "for i in lst:\n",
    "    print(i, end='')\n",
    "\n",
    "for i in range(count):\n",
    "    data = np.stack((data,))\n",
    "    x = torch.Tensor(data)\n",
    "    x = x.to(torch.long)\n",
    "    y = lgg_model(x)[0][-1]\n",
    "    p = y.detach().numpy()\n",
    "    p = softmax(p)\n",
    "\n",
    "    idx = np.random.choice(np.arange(len(wv)), p=p)\n",
    "    new_word = wv.index_to_key[idx]\n",
    "    print(new_word, end='')\n",
    "\n",
    "    lst.append(new_word)\n",
    "    data = np.append(data, idx)\n",
    "\n",
    "print('\\nGeneration finished.')"
   ]
  },
  {
   "cell_type": "code",
   "execution_count": null,
   "metadata": {},
   "outputs": [],
   "source": [
    "\"\"\"GPT-2 model generation\"\"\"\n",
    "\"\"\"没用！净给我报错！\"\"\"\n",
    "words = input(\"请输入初始文本：\")\n",
    "del_lst = []\n",
    "lst = list(words)\n",
    "\n",
    "data = []\n",
    "data.append(101)\n",
    "for i in lst:\n",
    "    data.append(tokenizer.encode(i)[1])\n",
    "data.append(102)\n",
    "data = torch.tensor(data)\n",
    "print(data)\n",
    "print(lgg_model(data)[0][-1])\n",
    "\n",
    "count = int(input(\"请输入想要生成的字(词)数：\"))\n",
    "\n",
    "for i in lst:\n",
    "    print(i, end='')\n",
    "\n",
    "for i in range(count):\n",
    "    y = lgg_model(data)[0][-1]\n",
    "    p = y.detach()\n",
    "    p = torch.softmax(p, dim=0)\n",
    "\n",
    "    idx = np.random.choice(tokenizer.vocab_size, p=np.array(p))\n",
    "    new_word = tokenizer.decode(idx)\n",
    "    print(new_word, end='')\n",
    "\n",
    "    lst.append(new_word)\n",
    "    data = torch.hstack((data, torch.tensor([idx])))\n",
    "\n",
    "print('\\nGeneration finished.')"
   ]
  },
  {
   "cell_type": "code",
   "execution_count": null,
   "metadata": {},
   "outputs": [],
   "source": [
    "# translate the generated text into classical Chinese\n",
    "to_be_translated = str(lst)\n",
    "translated = inference(to_be_translated)\n",
    "for i in translated[0]:\n",
    "    print(i, end='')"
   ]
  }
 ],
 "metadata": {
  "interpreter": {
   "hash": "aee8b7b246df8f9039afb4144a1f6fd8d2ca17a180786b69acc140d282b71a49"
  },
  "kernelspec": {
   "display_name": "Python 3.9.6 64-bit",
   "language": "python",
   "name": "python3"
  },
  "language_info": {
   "codemirror_mode": {
    "name": "ipython",
    "version": 3
   },
   "file_extension": ".py",
   "mimetype": "text/x-python",
   "name": "python",
   "nbconvert_exporter": "python",
   "pygments_lexer": "ipython3",
   "version": "3.9.6"
  },
  "orig_nbformat": 4
 },
 "nbformat": 4,
 "nbformat_minor": 2
}
